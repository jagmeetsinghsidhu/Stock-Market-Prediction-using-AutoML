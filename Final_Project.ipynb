{
  "nbformat": 4,
  "nbformat_minor": 0,
  "metadata": {
    "colab": {
      "name": "Final Project.ipynb",
      "provenance": [],
      "collapsed_sections": []
    },
    "kernelspec": {
      "name": "python3",
      "display_name": "Python 3"
    },
    "language_info": {
      "name": "python"
    },
    "accelerator": "GPU"
  },
  "cells": [
    {
      "cell_type": "markdown",
      "metadata": {
        "id": "EJCX2fmf0ZcP"
      },
      "source": [
        "INSTALLING API TO FETCH STOCK MARKET DATA"
      ]
    },
    {
      "cell_type": "code",
      "metadata": {
        "id": "LRb5hrwdx1cu"
      },
      "source": [
        "pip install yfinance "
      ],
      "execution_count": null,
      "outputs": []
    },
    {
      "cell_type": "markdown",
      "metadata": {
        "id": "1fKAmrFw0fre"
      },
      "source": [
        "IMPORTING LIBRARIES"
      ]
    },
    {
      "cell_type": "code",
      "metadata": {
        "id": "TrKwsv05wqBd"
      },
      "source": [
        "import pandas as pd\n",
        "import numpy as np\n",
        "import pandas as pd\n",
        "import yfinance as yf\n",
        "import iexfinance\n",
        "import autosklearn.regression\n",
        "from iexfinance.stocks import get_historical_data\n",
        "from datetime import datetime, date\n",
        "from sklearn.model_selection import train_test_split\n",
        "from sklearn.linear_model import LinearRegression\n",
        "from sklearn.model_selection import KFold\n",
        "from sklearn.model_selection import cross_val_score\n",
        "from sklearn.linear_model import Lasso\n",
        "from sklearn.linear_model import ElasticNet\n",
        "from sklearn.tree import DecisionTreeRegressor\n",
        "from sklearn.neighbors import KNeighborsRegressor\n",
        "from sklearn.svm import SVR\n",
        "from matplotlib import pyplot as plt\n",
        "from sklearn.metrics import mean_squared_error"
      ],
      "execution_count": null,
      "outputs": []
    },
    {
      "cell_type": "markdown",
      "metadata": {
        "id": "UX2urh0p0keO"
      },
      "source": [
        "PREDICTING AND ANALYZING APPLE STOCKS"
      ]
    },
    {
      "cell_type": "code",
      "metadata": {
        "id": "deetoHeXDQDS"
      },
      "source": [
        "apple = yf.download('AAPL', start='2019-01-01', end='2019-12-31', progress=False)\n",
        "print(apple.head())\n",
        "prices = apple[apple.columns[0:1]]\n",
        "prices.reset_index(level=0, inplace=True)\n",
        "prices[\"timestamp\"] = pd.to_datetime(prices.Date).astype(int) // (10**9)\n",
        "prices = prices.drop(['Date'], axis=1)\n",
        "dataset = prices.values\n",
        "X = dataset[:,1].reshape(-1,1)\n",
        "Y = dataset[:,0:1]\n",
        "validation_size = 0.15\n",
        "seed = 7\n",
        "X_train, X_validation, Y_train, Y_validation = train_test_split(X, Y, test_size=validation_size, random_state=seed)\n",
        "# Future prediction, add dates here for which you want to predict\n",
        "dates = [\"2020-12-23\", \"2020-12-24\", \"2020-12-25\", \"2020-12-26\", \"2020-12-27\",]\n",
        "#convert to time stamp\n",
        "for dt in dates:\n",
        "  datetime_object = datetime.strptime(dt, \"%Y-%m-%d\")\n",
        "  timestamp = datetime.timestamp(datetime_object)\n",
        "  # to array X\n",
        "  np.append(X, int(timestamp))\n",
        "# Define model\n",
        "model = DecisionTreeRegressor()\n",
        "# Fit to model\n",
        "model.fit(X_train, Y_train)\n",
        "# predict\n",
        "predictions = model.predict(X)\n",
        "print(mean_squared_error(Y, predictions))\n",
        "\n",
        "# %matplotlib inline \n",
        "fig= plt.figure(figsize=(24,12))\n",
        "plt.plot(X,Y)\n",
        "plt.plot(X,predictions)\n",
        "plt.show()\n",
        "\n",
        "\n",
        "automl = autosklearn.regression.AutoSklearnRegressor(time_left_for_this_task=120,per_run_time_limit=30)\n",
        "automl.fit(X_train, Y_train)\n",
        "\n",
        "\n",
        "\n",
        "predictions = automl.predict(X)\n",
        "print(mean_squared_error(Y, predictions))\n",
        "\n",
        "# %matplotlib inline \n",
        "fig= plt.figure(figsize=(24,12))\n",
        "plt.plot(X,Y)\n",
        "plt.plot(X,predictions)\n",
        "plt.show()"
      ],
      "execution_count": null,
      "outputs": []
    },
    {
      "cell_type": "markdown",
      "metadata": {
        "id": "AxphCy7r0tDO"
      },
      "source": [
        "PREDICTING AND ANALYZING TESLA STOCKS"
      ]
    },
    {
      "cell_type": "code",
      "metadata": {
        "id": "PEYCwRlTt169"
      },
      "source": [
        "tesla = yf.download('TSLA', start='2019-01-01', end='2019-12-31', progress=False)\n",
        "print(tesla.head())\n",
        "prices = tesla[tesla.columns[0:1]]\n",
        "prices.reset_index(level=0, inplace=True)\n",
        "prices[\"timestamp\"] = pd.to_datetime(prices.Date).astype(int) // (10**9)\n",
        "prices = prices.drop(['Date'], axis=1)\n",
        "dataset = prices.values\n",
        "X = dataset[:,1].reshape(-1,1)\n",
        "Y = dataset[:,0:1]\n",
        "validation_size = 0.15\n",
        "seed = 7\n",
        "X_train, X_validation, Y_train, Y_validation = train_test_split(X, Y, test_size=validation_size, random_state=seed)\n",
        "# Future prediction, add dates here for which you want to predict\n",
        "dates = [\"2020-12-23\", \"2020-12-24\", \"2020-12-25\", \"2020-12-26\", \"2020-12-27\",]\n",
        "#convert to time stamp\n",
        "for dt in dates:\n",
        "  datetime_object = datetime.strptime(dt, \"%Y-%m-%d\")\n",
        "  timestamp = datetime.timestamp(datetime_object)\n",
        "  # to array X\n",
        "  np.append(X, int(timestamp))\n",
        "# Define model\n",
        "model = DecisionTreeRegressor()\n",
        "# Fit to model\n",
        "model.fit(X_train, Y_train)\n",
        "# predict\n",
        "predictions = model.predict(X)\n",
        "print(mean_squared_error(Y, predictions))\n",
        "\n",
        "# %matplotlib inline \n",
        "fig= plt.figure(figsize=(24,12))\n",
        "plt.plot(X,Y)\n",
        "plt.plot(X,predictions)\n",
        "plt.show()\n",
        "\n",
        "\n",
        "automl = autosklearn.regression.AutoSklearnRegressor(time_left_for_this_task=120,per_run_time_limit=30)\n",
        "automl.fit(X_train, Y_train)\n",
        "\n",
        "\n",
        "\n",
        "predictions = automl.predict(X)\n",
        "print(mean_squared_error(Y, predictions))\n",
        "\n",
        "# %matplotlib inline \n",
        "fig= plt.figure(figsize=(24,12))\n",
        "plt.plot(X,Y)\n",
        "plt.plot(X,predictions)\n",
        "plt.show()"
      ],
      "execution_count": null,
      "outputs": []
    },
    {
      "cell_type": "markdown",
      "metadata": {
        "id": "S-AMaCfJ0v3X"
      },
      "source": [
        "PREDICTING AND ANALYZING Google STOCKS"
      ]
    },
    {
      "cell_type": "code",
      "metadata": {
        "id": "TA3jw1wSLejp"
      },
      "source": [
        "google = yf.download('GOOGL', start='2019-01-01', end='2019-12-31', progress=False)\n",
        "print(google.head())\n",
        "prices = google[google.columns[0:1]]\n",
        "prices.reset_index(level=0, inplace=True)\n",
        "prices[\"timestamp\"] = pd.to_datetime(prices.Date).astype(int) // (10**9)\n",
        "prices = prices.drop(['Date'], axis=1)\n",
        "dataset = prices.values\n",
        "X = dataset[:,1].reshape(-1,1)\n",
        "Y = dataset[:,0:1]\n",
        "validation_size = 0.15\n",
        "seed = 7\n",
        "X_train, X_validation, Y_train, Y_validation = train_test_split(X, Y, test_size=validation_size, random_state=seed)\n",
        "# Future prediction, add dates here for which you want to predict\n",
        "dates = [\"2020-12-23\", \"2020-12-24\", \"2020-12-25\", \"2020-12-26\", \"2020-12-27\",]\n",
        "#convert to time stamp\n",
        "for dt in dates:\n",
        "  datetime_object = datetime.strptime(dt, \"%Y-%m-%d\")\n",
        "  timestamp = datetime.timestamp(datetime_object)\n",
        "  # to array X\n",
        "  np.append(X, int(timestamp))\n",
        "# Define model\n",
        "model = DecisionTreeRegressor()\n",
        "# Fit to model\n",
        "model.fit(X_train, Y_train)\n",
        "# predict\n",
        "predictions = model.predict(X)\n",
        "print(mean_squared_error(Y, predictions))\n",
        "\n",
        "# %matplotlib inline \n",
        "fig= plt.figure(figsize=(24,12))\n",
        "plt.plot(X,Y)\n",
        "plt.plot(X,predictions)\n",
        "plt.show()\n",
        "\n",
        "\n",
        "automl = autosklearn.regression.AutoSklearnRegressor(time_left_for_this_task=120,per_run_time_limit=30)\n",
        "automl.fit(X_train, Y_train)\n",
        "\n",
        "\n",
        "\n",
        "predictions = automl.predict(X)\n",
        "print(mean_squared_error(Y, predictions))\n",
        "\n",
        "# %matplotlib inline \n",
        "fig= plt.figure(figsize=(24,12))\n",
        "plt.plot(X,Y)\n",
        "plt.plot(X,predictions)\n",
        "plt.show()"
      ],
      "execution_count": null,
      "outputs": []
    },
    {
      "cell_type": "code",
      "metadata": {
        "id": "Z1y-FkIoLjqZ"
      },
      "source": [
        ""
      ],
      "execution_count": null,
      "outputs": []
    }
  ]
}